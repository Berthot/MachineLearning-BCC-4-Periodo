{
 "cells": [
  {
   "cell_type": "code",
   "execution_count": 1,
   "metadata": {
    "colab": {
     "base_uri": "https://localhost:8080/",
     "height": 51
    },
    "colab_type": "code",
    "id": "Zz9jYv0imX0t",
    "outputId": "f453ec54-0202-4911-bcf3-d81f8d7738a0"
   },
   "outputs": [
    {
     "name": "stdout",
     "output_type": "stream",
     "text": [
      "Class predicted =  setosa\n",
      "Class probability:  0.9951132152876772\n"
     ]
    }
   ],
   "source": [
    "from joblib import dump, load\n",
    "from sklearn import datasets\n",
    "from sklearn.naive_bayes import GaussianNB\n",
    "import numpy as np\n",
    "\n",
    "rng = np.random.RandomState(123)\n",
    "\n",
    "# Problem classes\n",
    "classes = ['setosa', 'versicolor', 'virginica']\n",
    "\n",
    "# load the iris dataset\n",
    "iris = datasets.load_iris()\n",
    "X = iris.data\n",
    "y = iris.target\n",
    "\n",
    "# Creating a model (any kind of model)\n",
    "#mymodel = tree.DecisionTreeClassifier(criterion='entropy')\n",
    "#mymodel = MLPClassifier(solver='lbfgs', early_stopping=True, hidden_layer_sizes=(32), activation='logistic', batch_size=100, max_iter=10000, learning_rate_init=0.001, momentum=0.8, random_state=rng)\n",
    "#mymodel = BaggingClassifier(n_estimators=30, random_state=0)\n",
    "my_model = GaussianNB()\n",
    "\n",
    "# Model training\n",
    "my_model = my_model.fit(X, y)\n",
    "\n",
    "# saving my model on disc (temporary fold at Google Colab, for instance)\n",
    "with open(\"model.mod\", 'wb') as fo:\n",
    "    dump(my_model, fo)\n",
    "\n",
    "# loading my model from the disc\n",
    "with open(\"model.mod\", 'rb') as fo:\n",
    "    model_uploaded = load(fo)\n",
    "\n",
    "# Predicting the class of a given testing sample Z    \n",
    "Z=[[4.0, 3.1, 1.5, 0.9]]\n",
    "class_predicted = model_uploaded.predict(Z)\n",
    "class_probability = model_uploaded.predict_proba(Z)\n",
    "\n",
    "print('Class predicted = ', classes[class_predicted[0]])\n",
    "print('Class probability: ', class_probability[0][class_predicted[0]])"
   ]
  },
  {
   "cell_type": "code",
   "execution_count": 4,
   "outputs": [],
   "source": [],
   "metadata": {
    "collapsed": false,
    "pycharm": {
     "name": "#%%\n"
    }
   }
  }
 ],
 "metadata": {
  "colab": {
   "collapsed_sections": [],
   "name": "Dump.ipynb",
   "provenance": []
  },
  "kernelspec": {
   "name": "python3",
   "language": "python",
   "display_name": "Python 3"
  },
  "language_info": {
   "codemirror_mode": {
    "name": "ipython",
    "version": 3
   },
   "file_extension": ".py",
   "mimetype": "text/x-python",
   "name": "python",
   "nbconvert_exporter": "python",
   "pygments_lexer": "ipython3",
   "version": "3.9.0+"
  }
 },
 "nbformat": 4,
 "nbformat_minor": 1
}