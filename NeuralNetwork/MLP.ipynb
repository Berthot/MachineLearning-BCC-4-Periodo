{
  "nbformat": 4,
  "nbformat_minor": 0,
  "metadata": {
    "colab": {
      "name": "MLP.ipynb",
      "provenance": []
    },
    "kernelspec": {
      "name": "python3",
      "display_name": "Python 3"
    },
    "accelerator": "GPU"
  },
  "cells": [
    {
      "cell_type": "code",
      "metadata": {
        "id": "iJzsuyfTvZRe",
        "outputId": "4a374695-234f-40e9-c4d3-18ddd4376fc0",
        "colab": {
          "base_uri": "https://localhost:8080/",
          "height": 255
        }
      },
      "source": [
        "# Este exemplo carrega a base Wine da UCI, treina um classificador MLP\n",
        "# usando holdout e outro usando validação cruzada com 10 pastas. \n",
        "\n",
        "# Importa bibliotecas necessárias \n",
        "import numpy as np\n",
        "import urllib.request\n",
        "from sklearn.neural_network import MLPClassifier\n",
        "from sklearn import  model_selection\n",
        "from sklearn.metrics import confusion_matrix\n",
        "from sklearn.model_selection import train_test_split\n",
        "\n",
        "from warnings import simplefilter\n",
        "simplefilter(action='ignore', category=FutureWarning)\n",
        "\n",
        "#from sklearn.model_selection import StratifiedShuffleSplit\n",
        "# Carrega uma base de dados do UCI\n",
        "# Exemplo carrega a base Wine\n",
        "url = \"http://archive.ics.uci.edu/ml/machine-learning-databases/wine/wine.data\"\n",
        "raw_data = urllib.request.urlopen(url)\n",
        "\n",
        "# Carrega arquivo como uma matriz\n",
        "dataset = np.loadtxt(raw_data, delimiter=\",\")\n",
        "\n",
        "# Imprime quantide de instâncias e atributos da base\n",
        "print(dataset.shape)\n",
        "\n",
        "# Coloca em X os 13 atributos de entrada e em y as classes\n",
        "# Observe que na base Wine a classe é primeiro atributo \n",
        "X = dataset[:,1:13]\n",
        "y = dataset[:,0]\n",
        "\n",
        "# EXEMPLO USANDO HOLDOUT\n",
        "# Holdout -> dividindo a base em treinamento (70%) e teste (30%), estratificada\n",
        "X_train, X_test, y_train, y_test = train_test_split(X,y,test_size=.3, random_state=42, stratify=y)\n",
        "\n",
        "# Treina o classificador\n",
        "clfa = MLPClassifier(hidden_layer_sizes=(16), activation='relu', max_iter=5000,\n",
        "                      solver='lbfgs', tol= 1e-10, early_stopping=True, validation_fraction=0.2)\n",
        "clfa = clfa.fit(X_train, y_train)\n",
        "\n",
        "# testa usando a base de testes\n",
        "predicted=clfa.predict(X_test)\n",
        "\n",
        "# calcula a acurácia na base de teste\n",
        "score=clfa.score(X_test, y_test)\n",
        "\n",
        "# calcula a matriz de confusão\n",
        "matrix = confusion_matrix(y_test, predicted)\n",
        "\n",
        "# apresenta os resultados\n",
        "print(\"Accuracy = %.2f \" % score)\n",
        "print(\"Confusion Matrix:\")\n",
        "print(matrix)\n",
        "\n",
        "# EXEMPLO USANDO VALIDAÇÃO CRUZADA\n",
        "clfb = MLPClassifier(hidden_layer_sizes=(16), activation='relu', max_iter=5000,\n",
        "                      solver='sgd', tol= 1e-10, early_stopping=True, validation_fraction=0.2)\n",
        "folds=10\n",
        "result = model_selection.cross_val_score(clfb, X, y, cv=folds)\n",
        "print(\"\\nCross Validation Results %d folds:\" % folds)\n",
        "print(\"Mean Accuracy: %.2f\" % result.mean())\n",
        "print(\"Mean Std: %.2f\" % result.std())\n",
        "\n",
        "# matriz de confusão da validação cruzada\n",
        "Z = model_selection.cross_val_predict(clfb, X, y, cv=folds)\n",
        "cm=confusion_matrix(y, Z)\n",
        "print(\"Confusion Matrix:\")\n",
        "print(cm)"
      ],
      "execution_count": 1,
      "outputs": [
        {
          "output_type": "stream",
          "text": [
            "(178, 14)\n",
            "Accuracy = 0.85 \n",
            "Confusion Matrix:\n",
            "[[18  0  0]\n",
            " [ 5 16  0]\n",
            " [ 0  3 12]]\n",
            "\n",
            "Cross Validation Results 10 folds:\n",
            "Mean Accuracy: 0.55\n",
            "Mean Std: 0.14\n",
            "Confusion Matrix:\n",
            "[[30 18 11]\n",
            " [22 26 23]\n",
            " [ 7 18 23]]\n"
          ],
          "name": "stdout"
        }
      ]
    }
  ]
}