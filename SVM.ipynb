{
 "nbformat": 4,
 "nbformat_minor": 0,
 "metadata": {
  "colab": {
   "name": "SVM.ipynb",
   "provenance": []
  },
  "kernelspec": {
   "name": "python3",
   "language": "python",
   "display_name": "Python 3"
  }
 },
 "cells": [
  {
   "cell_type": "code",
   "metadata": {
    "id": "7NoqKvYvwLTy",
    "outputId": "157f1d27-e331-469d-9788-3f7d8a3cc930",
    "colab": {
     "base_uri": "https://localhost:8080/",
     "height": 272
    }
   },
   "source": [
    "# Este exemplo carrega a base Wine da UCI, treina um classificador SVM\n",
    "# usando holdout e outro usando validação cruzada com 10 pastas. \n",
    "\n",
    "# Importa bibliotecas necessárias \n",
    "import numpy as np\n",
    "import urllib.request\n",
    "from sklearn.svm import SVC\n",
    "from sklearn import  model_selection\n",
    "from sklearn.metrics import confusion_matrix\n",
    "from sklearn.model_selection import train_test_split\n",
    "from sklearn.model_selection import GridSearchCV\n",
    "\n",
    "from warnings import simplefilter\n",
    "simplefilter(action='ignore', category=FutureWarning)\n",
    "\n",
    "#from sklearn.model_selection import StratifiedShuffleSplit\n",
    "# Carrega uma base de dados do UCI\n",
    "# Exemplo carrega a base Wine\n",
    "# url = \"http://archive.ics.uci.edu/ml/machine-learning-databases/wine/wine.data\"\n",
    "# raw_data = urllib.request.urlopen(url)\n",
    "raw_data = open('./leaf.csv', 'r')\n",
    "# Carrega arquivo como uma matriz\n",
    "dataset = np.loadtxt(raw_data, delimiter=\",\")\n",
    "\n",
    "# Imprime quantide de instâncias e atributos da base\n",
    "print(dataset.shape)\n",
    "\n",
    "# Coloca em X os 13 atributos de entrada e em y as classes\n",
    "# Observe que na base Wine a classe é primeiro atributo \n",
    "X = dataset[:,2:16]\n",
    "y = dataset[:,0]\n",
    "\n",
    "# EXEMPLO USANDO HOLDOUT\n",
    "# Holdout -> dividindo a base em treinamento (70%) e teste (30%), estratificada\n",
    "X_train, X_test, y_train, y_test = train_test_split(X,y,test_size=.3, random_state=42, stratify=y)\n",
    "\n",
    "# Treina o classificador\n",
    "\n",
    "#Definição dos parâmetros a serem avaliados no ajuste fino do SVM\n",
    "parameters = [\n",
    "  {'C': [0.1, 0.5, 1, 10, 100, 500, 1000], 'kernel': ['linear']},\n",
    "  {'C': [0.1, 0.5, 1, 10, 100, 500, 1000], 'gamma': [0.1, 0.001, 0.0001, 0.00001], 'kernel': ['rbf']},\n",
    " ]\n",
    "\n",
    "clfa = SVC(probability=True)\n",
    "clfa = GridSearchCV(clfa, parameters, scoring = 'accuracy', cv=10, iid=False)\n",
    "clfa = clfa.fit(X_train, y_train)\n",
    "print(clfa.best_params_)\n",
    "\n",
    "# testa usando a base de testes\n",
    "predicted=clfa.predict(X_test)\n",
    "\n",
    "# calcula a acurácia na base de teste\n",
    "score=clfa.score(X_test, y_test)\n",
    "\n",
    "# calcula a matriz de confusão\n",
    "matrix = confusion_matrix(y_test, predicted)\n",
    "\n",
    "# apresenta os resultados\n",
    "print(\"Accuracy = %.2f \" % score)\n",
    "print(\"Confusion Matrix:\")\n",
    "print(matrix)\n",
    "\n",
    "# EXEMPLO USANDO VALIDAÇÃO CRUZADA\n",
    "\n",
    "# clfb = SVC()\n",
    "clfb = GridSearchCV(SVC(), parameters, scoring = 'accuracy', cv=10, iid=False)\n",
    "folds=10\n",
    "result = model_selection.cross_val_score(clfb, X, y, cv=folds)\n",
    "print(\"\\nCross Validation Results %d folds:\" % folds)\n",
    "print(\"Mean Accuracy: %.2f\" % result.mean())\n",
    "print(\"Mean Std: %.2f\" % result.std())\n",
    "\n",
    "# matriz de confusão da validação cruzada\n",
    "Z = model_selection.cross_val_predict(clfb, X, y, cv=folds)\n",
    "cm=confusion_matrix(y, Z)\n",
    "print(\"Confusion Matrix:\")\n",
    "print(cm)"
   ],
   "execution_count": 7,
   "outputs": [
    {
     "name": "stdout",
     "output_type": "stream",
     "text": [
      "(340, 16)\n"
     ]
    },
    {
     "ename": "TypeError",
     "evalue": "__init__() got an unexpected keyword argument 'iid'",
     "output_type": "error",
     "traceback": [
      "\u001B[0;31m---------------------------------------------------------------------------\u001B[0m",
      "\u001B[0;31mTypeError\u001B[0m                                 Traceback (most recent call last)",
      "\u001B[0;32m<ipython-input-7-1b84de211934>\u001B[0m in \u001B[0;36m<module>\u001B[0;34m\u001B[0m\n\u001B[1;32m     44\u001B[0m \u001B[0;34m\u001B[0m\u001B[0m\n\u001B[1;32m     45\u001B[0m \u001B[0mclfa\u001B[0m \u001B[0;34m=\u001B[0m \u001B[0mSVC\u001B[0m\u001B[0;34m(\u001B[0m\u001B[0mprobability\u001B[0m\u001B[0;34m=\u001B[0m\u001B[0;32mTrue\u001B[0m\u001B[0;34m)\u001B[0m\u001B[0;34m\u001B[0m\u001B[0;34m\u001B[0m\u001B[0m\n\u001B[0;32m---> 46\u001B[0;31m \u001B[0mclfa\u001B[0m \u001B[0;34m=\u001B[0m \u001B[0mGridSearchCV\u001B[0m\u001B[0;34m(\u001B[0m\u001B[0mclfa\u001B[0m\u001B[0;34m,\u001B[0m \u001B[0mparameters\u001B[0m\u001B[0;34m,\u001B[0m \u001B[0mscoring\u001B[0m \u001B[0;34m=\u001B[0m \u001B[0;34m'accuracy'\u001B[0m\u001B[0;34m,\u001B[0m \u001B[0mcv\u001B[0m\u001B[0;34m=\u001B[0m\u001B[0;36m10\u001B[0m\u001B[0;34m,\u001B[0m \u001B[0miid\u001B[0m\u001B[0;34m=\u001B[0m\u001B[0;32mFalse\u001B[0m\u001B[0;34m)\u001B[0m\u001B[0;34m\u001B[0m\u001B[0;34m\u001B[0m\u001B[0m\n\u001B[0m\u001B[1;32m     47\u001B[0m \u001B[0mclfa\u001B[0m \u001B[0;34m=\u001B[0m \u001B[0mclfa\u001B[0m\u001B[0;34m.\u001B[0m\u001B[0mfit\u001B[0m\u001B[0;34m(\u001B[0m\u001B[0mX_train\u001B[0m\u001B[0;34m,\u001B[0m \u001B[0my_train\u001B[0m\u001B[0;34m)\u001B[0m\u001B[0;34m\u001B[0m\u001B[0;34m\u001B[0m\u001B[0m\n\u001B[1;32m     48\u001B[0m \u001B[0mprint\u001B[0m\u001B[0;34m(\u001B[0m\u001B[0mclfa\u001B[0m\u001B[0;34m.\u001B[0m\u001B[0mbest_params_\u001B[0m\u001B[0;34m)\u001B[0m\u001B[0;34m\u001B[0m\u001B[0;34m\u001B[0m\u001B[0m\n",
      "\u001B[0;32m~/Music/Piton/MachineLearning/lib/python3.8/site-packages/sklearn/utils/validation.py\u001B[0m in \u001B[0;36minner_f\u001B[0;34m(*args, **kwargs)\u001B[0m\n\u001B[1;32m     61\u001B[0m             \u001B[0mextra_args\u001B[0m \u001B[0;34m=\u001B[0m \u001B[0mlen\u001B[0m\u001B[0;34m(\u001B[0m\u001B[0margs\u001B[0m\u001B[0;34m)\u001B[0m \u001B[0;34m-\u001B[0m \u001B[0mlen\u001B[0m\u001B[0;34m(\u001B[0m\u001B[0mall_args\u001B[0m\u001B[0;34m)\u001B[0m\u001B[0;34m\u001B[0m\u001B[0;34m\u001B[0m\u001B[0m\n\u001B[1;32m     62\u001B[0m             \u001B[0;32mif\u001B[0m \u001B[0mextra_args\u001B[0m \u001B[0;34m<=\u001B[0m \u001B[0;36m0\u001B[0m\u001B[0;34m:\u001B[0m\u001B[0;34m\u001B[0m\u001B[0;34m\u001B[0m\u001B[0m\n\u001B[0;32m---> 63\u001B[0;31m                 \u001B[0;32mreturn\u001B[0m \u001B[0mf\u001B[0m\u001B[0;34m(\u001B[0m\u001B[0;34m*\u001B[0m\u001B[0margs\u001B[0m\u001B[0;34m,\u001B[0m \u001B[0;34m**\u001B[0m\u001B[0mkwargs\u001B[0m\u001B[0;34m)\u001B[0m\u001B[0;34m\u001B[0m\u001B[0;34m\u001B[0m\u001B[0m\n\u001B[0m\u001B[1;32m     64\u001B[0m \u001B[0;34m\u001B[0m\u001B[0m\n\u001B[1;32m     65\u001B[0m             \u001B[0;31m# extra_args > 0\u001B[0m\u001B[0;34m\u001B[0m\u001B[0;34m\u001B[0m\u001B[0;34m\u001B[0m\u001B[0m\n",
      "\u001B[0;31mTypeError\u001B[0m: __init__() got an unexpected keyword argument 'iid'"
     ]
    }
   ]
  }
 ]
}